{
 "cells": [
  {
   "cell_type": "markdown",
   "metadata": {},
   "source": [
    "---\n",
    "\n",
    "_You are currently looking at **version 1.1** of this notebook. To download notebooks and datafiles, as well as get help on Jupyter notebooks in the Coursera platform, visit the [Jupyter Notebook FAQ](https://www.coursera.org/learn/python-data-analysis/resources/0dhYG) course resource._\n",
    "\n",
    "---"
   ]
  },
  {
   "cell_type": "code",
   "execution_count": 78,
   "metadata": {
    "collapsed": true
   },
   "outputs": [],
   "source": [
    "import pandas as pd\n",
    "import numpy as np\n",
    "from scipy.stats import ttest_ind"
   ]
  },
  {
   "cell_type": "markdown",
   "metadata": {},
   "source": [
    "# Assignment 4 - Hypothesis Testing\n",
    "This assignment requires more individual learning than previous assignments - you are encouraged to check out the [pandas documentation](http://pandas.pydata.org/pandas-docs/stable/) to find functions or methods you might not have used yet, or ask questions on [Stack Overflow](http://stackoverflow.com/) and tag them as pandas and python related. And of course, the discussion forums are open for interaction with your peers and the course staff.\n",
    "\n",
    "Definitions:\n",
    "* A _quarter_ is a specific three month period, Q1 is January through March, Q2 is April through June, Q3 is July through September, Q4 is October through December.\n",
    "* A _recession_ is defined as starting with two consecutive quarters of GDP decline, and ending with two consecutive quarters of GDP growth.\n",
    "* A _recession bottom_ is the quarter within a recession which had the lowest GDP.\n",
    "* A _university town_ is a city which has a high percentage of university students compared to the total population of the city.\n",
    "\n",
    "**Hypothesis**: University towns have their mean housing prices less effected by recessions. Run a t-test to compare the ratio of the mean price of houses in university towns the quarter before the recession starts compared to the recession bottom. (`price_ratio=quarter_before_recession/recession_bottom`)\n",
    "\n",
    "The following data files are available for this assignment:\n",
    "* From the [Zillow research data site](http://www.zillow.com/research/data/) there is housing data for the United States. In particular the datafile for [all homes at a city level](http://files.zillowstatic.com/research/public/City/City_Zhvi_AllHomes.csv), ```City_Zhvi_AllHomes.csv```, has median home sale prices at a fine grained level.\n",
    "* From the Wikipedia page on college towns is a list of [university towns in the United States](https://en.wikipedia.org/wiki/List_of_college_towns#College_towns_in_the_United_States) which has been copy and pasted into the file ```university_towns.txt```.\n",
    "* From Bureau of Economic Analysis, US Department of Commerce, the [GDP over time](http://www.bea.gov/national/index.htm#gdp) of the United States in current dollars (use the chained value in 2009 dollars), in quarterly intervals, in the file ```gdplev.xls```. For this assignment, only look at GDP data from the first quarter of 2000 onward.\n",
    "\n",
    "Each function in this assignment below is worth 10%, with the exception of ```run_ttest()```, which is worth 50%."
   ]
  },
  {
   "cell_type": "code",
   "execution_count": 39,
   "metadata": {
    "collapsed": true
   },
   "outputs": [],
   "source": [
    "# Use this dictionary to map state names to two letter acronyms\n",
    "states = {'OH': 'Ohio', 'KY': 'Kentucky', 'AS': 'American Samoa', 'NV': 'Nevada', 'WY': 'Wyoming', 'NA': 'National', 'AL': 'Alabama', 'MD': 'Maryland', 'AK': 'Alaska', 'UT': 'Utah', 'OR': 'Oregon', 'MT': 'Montana', 'IL': 'Illinois', 'TN': 'Tennessee', 'DC': 'District of Columbia', 'VT': 'Vermont', 'ID': 'Idaho', 'AR': 'Arkansas', 'ME': 'Maine', 'WA': 'Washington', 'HI': 'Hawaii', 'WI': 'Wisconsin', 'MI': 'Michigan', 'IN': 'Indiana', 'NJ': 'New Jersey', 'AZ': 'Arizona', 'GU': 'Guam', 'MS': 'Mississippi', 'PR': 'Puerto Rico', 'NC': 'North Carolina', 'TX': 'Texas', 'SD': 'South Dakota', 'MP': 'Northern Mariana Islands', 'IA': 'Iowa', 'MO': 'Missouri', 'CT': 'Connecticut', 'WV': 'West Virginia', 'SC': 'South Carolina', 'LA': 'Louisiana', 'KS': 'Kansas', 'NY': 'New York', 'NE': 'Nebraska', 'OK': 'Oklahoma', 'FL': 'Florida', 'CA': 'California', 'CO': 'Colorado', 'PA': 'Pennsylvania', 'DE': 'Delaware', 'NM': 'New Mexico', 'RI': 'Rhode Island', 'MN': 'Minnesota', 'VI': 'Virgin Islands', 'NH': 'New Hampshire', 'MA': 'Massachusetts', 'GA': 'Georgia', 'ND': 'North Dakota', 'VA': 'Virginia'}"
   ]
  },
  {
   "cell_type": "code",
   "execution_count": 79,
   "metadata": {
    "collapsed": true,
    "umich_part_id": "021",
    "umich_partlist_id": "004"
   },
   "outputs": [],
   "source": [
    "#    '''Returns a DataFrame of towns and the states they are in from the \n",
    "#    university_towns.txt list. The format of the DataFrame should be:\n",
    "#    DataFrame( [ [\"Michigan\", \"Ann Arbor\"], [\"Michigan\", \"Yipsilanti\"] ], \n",
    "#    columns=[\"State\", \"RegionName\"]  )\n",
    "    \n",
    "#    The following cleaning needs to be done:\n",
    "\n",
    "#    1. For \"State\", removing characters from \"[\" to the end.\n",
    "#    2. For \"RegionName\", when applicable, removing every character from \" (\" to the end.\n",
    "#    3. Depending on how you read the data, you may need to remove newline character '\\n'. '''\n",
    "\n",
    "def get_list_of_university_towns():\n",
    "    uni_towns = pd.read_csv('university_towns.txt', error_bad_lines=False, names=['RegionName'])\n",
    "\n",
    "    uni_towns['State'] = pd.np.where(uni_towns.RegionName.str.contains('edit'), uni_towns['RegionName'], '')\n",
    "    uni_towns['RegionName'] = uni_towns[~uni_towns.RegionName.str.contains(\"edit\")]\n",
    "\n",
    "    uni_towns['State'] = uni_towns.State.replace(r'^\\s*$', np.NaN, regex=True)\n",
    "    uni_towns['State'] = uni_towns['State'].str.replace(\"\\[.*\\]\", '')\n",
    "    uni_towns['State'] = uni_towns.State.fillna(method='ffill')\n",
    "\n",
    "    uni_towns['RegionName'] = uni_towns['RegionName'].str.replace(\"\\[.*\\]\", '')\n",
    "    uni_towns['RegionName'] = uni_towns['RegionName'].str.replace(\"\\(.*\\)\", '')\n",
    "    uni_towns['RegionName'] = uni_towns['RegionName'].str.replace(\"\\(.*\", '')\n",
    "    uni_towns['RegionName'] = uni_towns['RegionName'].str.strip()\n",
    "\n",
    "    uni_towns = uni_towns[['State', 'RegionName']]\n",
    "    uni_towns = uni_towns.dropna()\n",
    "    \n",
    "    return uni_towns"
   ]
  },
  {
   "cell_type": "code",
   "execution_count": 80,
   "metadata": {
    "collapsed": true,
    "umich_part_id": "022",
    "umich_partlist_id": "004"
   },
   "outputs": [],
   "source": [
    "#'''Returns the year and quarter of the recession start time as a \n",
    "#string value in a format such as 2005q3'''\n",
    "\n",
    "def get_recession_start():\n",
    "    \n",
    "    rec_inf = pd.read_excel('gdplev.xls', skiprows=5)\n",
    "\n",
    "    rec_inf.drop(rec_inf.iloc[:, 0:4], axis=1, inplace=True)\n",
    "    rec_inf.drop(rec_inf.columns[[1, 3]], axis=1, inplace=True)\n",
    "    rec_inf.drop(rec_inf.index[:214], inplace=True)\n",
    "\n",
    "    rec_inf.reset_index(drop=True, inplace=True)\n",
    "    rec_inf.columns = ['Year_Q', 'GDP_Billions']\n",
    "\n",
    "    occurrences = 0\n",
    "    i = 0\n",
    "    answer = ''\n",
    "    while(occurrences != 2):\n",
    "        if rec_inf.iloc[i+1]['GDP_Billions'] < rec_inf.iloc[i]['GDP_Billions']:\n",
    "            occurrences = occurrences + 1\n",
    "            i = i + 1\n",
    "            if occurrences == 2:\n",
    "                answer = rec_inf.iloc[i-1]['Year_Q']\n",
    "        else:\n",
    "            if occurrences == 1:\n",
    "                occurrences = 0\n",
    "            i = i + 1\n",
    "    \n",
    "    return answer"
   ]
  },
  {
   "cell_type": "code",
   "execution_count": 81,
   "metadata": {
    "collapsed": true,
    "umich_part_id": "023",
    "umich_partlist_id": "004"
   },
   "outputs": [],
   "source": [
    "#'''Returns the year and quarter of the recession end time as a \n",
    "#string value in a format such as 2005q3'''\n",
    "\n",
    "def get_recession_end():\n",
    "    \n",
    "    rec_inf = pd.read_excel('gdplev.xls', skiprows=5)\n",
    "\n",
    "    rec_inf.drop(rec_inf.iloc[:, 0:4], axis=1, inplace=True)\n",
    "    rec_inf.drop(rec_inf.columns[[1, 3]], axis=1, inplace=True)\n",
    "    rec_inf.drop(rec_inf.index[:248], inplace=True)\n",
    "\n",
    "    rec_inf.reset_index(drop=True, inplace=True)\n",
    "    rec_inf.columns = ['Year_Q', 'GDP_Billions']\n",
    "\n",
    "    occurrences = 0\n",
    "    i = 0\n",
    "    answer = ''\n",
    "    while(occurrences != 2):\n",
    "        if rec_inf.iloc[i+1]['GDP_Billions'] > rec_inf.iloc[i]['GDP_Billions']:\n",
    "            occurrences = occurrences + 1\n",
    "            i = i + 1\n",
    "            if occurrences == 2:\n",
    "                answer = rec_inf.iloc[i]['Year_Q']\n",
    "        else:\n",
    "            if occurrences == 1:\n",
    "                occurrences = 0\n",
    "            i = i + 1\n",
    "      \n",
    "    return answer"
   ]
  },
  {
   "cell_type": "code",
   "execution_count": 82,
   "metadata": {
    "collapsed": true,
    "umich_part_id": "024",
    "umich_partlist_id": "004"
   },
   "outputs": [],
   "source": [
    "#'''Returns the year and quarter of the recession bottom time as a \n",
    "#string value in a format such as 2005q3'''\n",
    "\n",
    "def get_recession_bottom():\n",
    "    \n",
    "    rec_inf = pd.read_excel('gdplev.xls', skiprows=5)\n",
    "\n",
    "    rec_inf.drop(rec_inf.iloc[:, 0:4], axis=1, inplace=True)\n",
    "    rec_inf.drop(rec_inf.columns[[1, 3]], axis=1, inplace=True)\n",
    "    rec_inf.drop(rec_inf.index[:248], inplace=True)\n",
    "    rec_inf.drop(rec_inf.index[6:], inplace=True)\n",
    "\n",
    "    rec_inf.reset_index(drop=True, inplace=True)\n",
    "    rec_inf.columns = ['Year_Q', 'GDP_Billions']\n",
    "    rec_inf = rec_inf.set_index('Year_Q')\n",
    "    answer = ''.join(rec_inf[rec_inf['GDP_Billions'] == rec_inf['GDP_Billions'].min()].index.values)\n",
    "    \n",
    "    return answer"
   ]
  },
  {
   "cell_type": "code",
   "execution_count": 83,
   "metadata": {
    "collapsed": true,
    "umich_part_id": "025",
    "umich_partlist_id": "004"
   },
   "outputs": [],
   "source": [
    "#'''Converts the housing data to quarters and returns it as mean \n",
    "#values in a dataframe. This dataframe should be a dataframe with\n",
    "#columns for 2000q1 through 2016q3, and should have a multi-index\n",
    "#in the shape of [\"State\",\"RegionName\"].\n",
    "    \n",
    "#Note: Quarters are defined in the assignment description, they are\n",
    "#not arbitrary three month periods.\n",
    "    \n",
    "#The resulting dataframe should have 67 columns, and 10,730 rows.\n",
    "#'''\n",
    "\n",
    "\n",
    "def convert_housing_data_to_quarters():\n",
    "    \n",
    "    housing_data = pd.read_csv('City_Zhvi_AllHomes.csv')\n",
    "    housing_data.drop(housing_data.iloc[:, 6:51], inplace=True, axis=1)\n",
    "\n",
    "    quarters_data = housing_data.iloc[:, 6:]\n",
    "    quarters_data.columns = pd.to_datetime(quarters_data.columns)\n",
    "    quarters_data = quarters_data.resample('Q', axis=1).mean()\n",
    "    quarters_data = quarters_data.rename(columns=lambda col: '{}q{}'.format(col.year, col.quarter))\n",
    "\n",
    "    housing_data.drop(housing_data.iloc[:, 6:], inplace=True, axis=1)\n",
    "\n",
    "    join_df = pd.concat([housing_data, quarters_data], axis=1)\n",
    "\n",
    "    states = {'OH': 'Ohio', 'KY': 'Kentucky', 'AS': 'American Samoa', 'NV': 'Nevada', 'WY': 'Wyoming', 'NA': 'National', 'AL': 'Alabama', 'MD': 'Maryland', 'AK': 'Alaska', 'UT': 'Utah', 'OR': 'Oregon', 'MT': 'Montana', 'IL': 'Illinois', 'TN': 'Tennessee', 'DC': 'District of Columbia', 'VT': 'Vermont', 'ID': 'Idaho', 'AR': 'Arkansas', 'ME': 'Maine', 'WA': 'Washington', 'HI': 'Hawaii', 'WI': 'Wisconsin', 'MI': 'Michigan', 'IN': 'Indiana', 'NJ': 'New Jersey', 'AZ': 'Arizona', 'GU': 'Guam', 'MS': 'Mississippi', 'PR': 'Puerto Rico', 'NC': 'North Carolina', 'TX': 'Texas', 'SD': 'South Dakota', 'MP': 'Northern Mariana Islands', 'IA': 'Iowa', 'MO': 'Missouri', 'CT': 'Connecticut', 'WV': 'West Virginia', 'SC': 'South Carolina', 'LA': 'Louisiana', 'KS': 'Kansas', 'NY': 'New York', 'NE': 'Nebraska', 'OK': 'Oklahoma', 'FL': 'Florida', 'CA': 'California', 'CO': 'Colorado', 'PA': 'Pennsylvania', 'DE': 'Delaware', 'NM': 'New Mexico', 'RI': 'Rhode Island', 'MN': 'Minnesota', 'VI': 'Virgin Islands', 'NH': 'New Hampshire', 'MA': 'Massachusetts', 'GA': 'Georgia', 'ND': 'North Dakota', 'VA': 'Virginia'}\n",
    "\n",
    "    join_df['States'] = join_df['State'].map(states)\n",
    "    join_df.drop(['RegionID', 'Metro', 'CountyName', 'SizeRank', 'State'], axis=1, inplace=True)\n",
    "    join_df.rename(columns={'States':'State'}, inplace=True)\n",
    "    join_df.sort_values(by=['State', 'RegionName'], ascending=True, inplace=True)\n",
    "    join_df.set_index([\"State\",\"RegionName\"], inplace=True)\n",
    "    \n",
    "    return join_df"
   ]
  },
  {
   "cell_type": "code",
   "execution_count": 104,
   "metadata": {
    "umich_part_id": "026",
    "umich_partlist_id": "004"
   },
   "outputs": [
    {
     "data": {
      "text/plain": [
       "(True, 0.0043883080860228811, 'university town')"
      ]
     },
     "execution_count": 104,
     "metadata": {},
     "output_type": "execute_result"
    }
   ],
   "source": [
    "#'''First creates new data showing the decline or growth of housing prices\n",
    "#between the recession start and the recession bottom. Then runs a ttest\n",
    "#comparing the university town values to the non-university towns values, \n",
    "#return whether the alternative hypothesis (that the two groups are the same)\n",
    "#is true or not as well as the p-value of the confidence. \n",
    "    \n",
    "#Return the tuple (different, p, better) where different=True if the t-test is\n",
    "#True at a p<0.01 (we reject the null hypothesis), or different=False if \n",
    "#otherwise (we cannot reject the null hypothesis). The variable p should\n",
    "#be equal to the exact p value returned from scipy.stats.ttest_ind(). The\n",
    "#value for better should be either \"university town\" or \"non-university town\"\n",
    "#depending on which has a lower mean price ratio (which is equivilent to a\n",
    "#reduced market loss).'''\n",
    "\n",
    "\n",
    "def run_ttest():\n",
    "    \n",
    "    univ_town_data = get_list_of_university_towns()\n",
    "    univ_town_data['univ_town'] = True\n",
    "\n",
    "    HD_UD_Join = pd.merge(convert_housing_data_to_quarters(), univ_town_data, how='outer', left_index=True, right_on=['State', 'RegionName'])\n",
    "    HD_UD_Join['univ_town'] = HD_UD_Join['univ_town'].replace({np.NaN: False})\n",
    "\n",
    "    HD_UD_Join.drop(HD_UD_Join.iloc[:, :34], inplace = True, axis = 1)\n",
    "    HD_UD_Join.drop(HD_UD_Join.iloc[:, 4:33], inplace = True, axis = 1)\n",
    "\n",
    "    recession_start = get_recession_start()\n",
    "    recession_bottom = get_recession_bottom()\n",
    "\n",
    "    new_columns_order = ['State', 'RegionName', 'univ_town', '2008q3', '2008q4', '2009q1', '2009q2']\n",
    "    HD_UD_Join = HD_UD_Join.reindex(columns=new_columns_order)\n",
    "\n",
    "    HD_UD_Join['price_ratio'] = HD_UD_Join[recession_bottom] - HD_UD_Join[recession_start]\n",
    "\n",
    "    univ_town_price_ratio = HD_UD_Join[HD_UD_Join['univ_town'] == True]['price_ratio']\n",
    "    non_univ_town_price_ratio = HD_UD_Join[HD_UD_Join['univ_town'] == False]['price_ratio']\n",
    "\n",
    "    st, p = ttest_ind(univ_town_price_ratio, non_univ_town_price_ratio, nan_policy='omit',)\n",
    "\n",
    "    different = False\n",
    "    if p < 0.01:\n",
    "        different = True\n",
    "\n",
    "    better = \"\"\n",
    "    if univ_town_price_ratio.mean() > non_univ_town_price_ratio.mean():\n",
    "        better = \"university town\"\n",
    "    else:\n",
    "        better = \"non-university town\"\n",
    "    \n",
    "    return (different, p, better)"
   ]
  },
  {
   "cell_type": "code",
   "execution_count": null,
   "metadata": {
    "collapsed": true
   },
   "outputs": [],
   "source": []
  }
 ],
 "metadata": {
  "coursera": {
   "course_slug": "python-data-analysis",
   "graded_item_id": "Il9Fx",
   "launcher_item_id": "TeDW0",
   "part_id": "WGlun"
  },
  "kernelspec": {
   "display_name": "Python 3",
   "language": "python",
   "name": "python3"
  },
  "language_info": {
   "codemirror_mode": {
    "name": "ipython",
    "version": 3
   },
   "file_extension": ".py",
   "mimetype": "text/x-python",
   "name": "python",
   "nbconvert_exporter": "python",
   "pygments_lexer": "ipython3",
   "version": "3.6.2"
  },
  "umich": {
   "id": "Assignment 4",
   "version": "1.1"
  }
 },
 "nbformat": 4,
 "nbformat_minor": 1
}
